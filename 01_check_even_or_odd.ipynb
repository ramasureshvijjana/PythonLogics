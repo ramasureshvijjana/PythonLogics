{
 "cells": [
  {
   "cell_type": "markdown",
   "metadata": {},
   "source": [
    "## To check given number is even number or odd number"
   ]
  },
  {
   "cell_type": "code",
   "execution_count": 16,
   "metadata": {},
   "outputs": [
    {
     "name": "stdout",
     "output_type": "stream",
     "text": [
      "The given number 261 is odd number\n"
     ]
    }
   ],
   "source": [
    "num = 261\n",
    "if (num % 2 == 0):\n",
    "    print(\"Given numver\",num, \"is even number\")\n",
    "    \n",
    "elif(num == 0):\n",
    "    print(\"The given number\",num,\"is zero\")\n",
    "    \n",
    "else:\n",
    "    print(\"The given number\",num,\"is odd number\")"
   ]
  }
 ],
 "metadata": {
  "kernelspec": {
   "display_name": "Python 3",
   "language": "python",
   "name": "python3"
  },
  "language_info": {
   "codemirror_mode": {
    "name": "ipython",
    "version": 3
   },
   "file_extension": ".py",
   "mimetype": "text/x-python",
   "name": "python",
   "nbconvert_exporter": "python",
   "pygments_lexer": "ipython3",
   "version": "3.8.5"
  }
 },
 "nbformat": 4,
 "nbformat_minor": 4
}
